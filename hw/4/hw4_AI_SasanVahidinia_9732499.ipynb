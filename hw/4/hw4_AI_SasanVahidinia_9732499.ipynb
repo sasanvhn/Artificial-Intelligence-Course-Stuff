{
 "cells": [
  {
   "cell_type": "code",
   "execution_count": 1,
   "id": "turned-fluid",
   "metadata": {
    "colab": {
     "base_uri": "https://localhost:8080/"
    },
    "id": "turned-fluid",
    "outputId": "b2270668-7e79-4b42-a540-05a085337d01"
   },
   "outputs": [
    {
     "name": "stdout",
     "output_type": "stream",
     "text": [
      "Looking in indexes: https://pypi.org/simple, https://us-python.pkg.dev/colab-wheels/public/simple/\n",
      "Requirement already satisfied: numpy in /usr/local/lib/python3.7/dist-packages (1.21.6)\n",
      "Looking in indexes: https://pypi.org/simple, https://us-python.pkg.dev/colab-wheels/public/simple/\n",
      "Requirement already satisfied: pandas in /usr/local/lib/python3.7/dist-packages (1.3.5)\n",
      "Requirement already satisfied: python-dateutil>=2.7.3 in /usr/local/lib/python3.7/dist-packages (from pandas) (2.8.2)\n",
      "Requirement already satisfied: pytz>=2017.3 in /usr/local/lib/python3.7/dist-packages (from pandas) (2022.1)\n",
      "Requirement already satisfied: numpy>=1.17.3 in /usr/local/lib/python3.7/dist-packages (from pandas) (1.21.6)\n",
      "Requirement already satisfied: six>=1.5 in /usr/local/lib/python3.7/dist-packages (from python-dateutil>=2.7.3->pandas) (1.15.0)\n",
      "Looking in indexes: https://pypi.org/simple, https://us-python.pkg.dev/colab-wheels/public/simple/\n",
      "Requirement already satisfied: matplotlib in /usr/local/lib/python3.7/dist-packages (3.2.2)\n",
      "Requirement already satisfied: cycler>=0.10 in /usr/local/lib/python3.7/dist-packages (from matplotlib) (0.11.0)\n",
      "Requirement already satisfied: python-dateutil>=2.1 in /usr/local/lib/python3.7/dist-packages (from matplotlib) (2.8.2)\n",
      "Requirement already satisfied: kiwisolver>=1.0.1 in /usr/local/lib/python3.7/dist-packages (from matplotlib) (1.4.3)\n",
      "Requirement already satisfied: pyparsing!=2.0.4,!=2.1.2,!=2.1.6,>=2.0.1 in /usr/local/lib/python3.7/dist-packages (from matplotlib) (3.0.9)\n",
      "Requirement already satisfied: numpy>=1.11 in /usr/local/lib/python3.7/dist-packages (from matplotlib) (1.21.6)\n",
      "Requirement already satisfied: typing-extensions in /usr/local/lib/python3.7/dist-packages (from kiwisolver>=1.0.1->matplotlib) (4.1.1)\n",
      "Requirement already satisfied: six>=1.5 in /usr/local/lib/python3.7/dist-packages (from python-dateutil>=2.1->matplotlib) (1.15.0)\n",
      "Looking in indexes: https://pypi.org/simple, https://us-python.pkg.dev/colab-wheels/public/simple/\n",
      "Requirement already satisfied: scikit-learn in /usr/local/lib/python3.7/dist-packages (1.0.2)\n",
      "Requirement already satisfied: threadpoolctl>=2.0.0 in /usr/local/lib/python3.7/dist-packages (from scikit-learn) (3.1.0)\n",
      "Requirement already satisfied: numpy>=1.14.6 in /usr/local/lib/python3.7/dist-packages (from scikit-learn) (1.21.6)\n",
      "Requirement already satisfied: scipy>=1.1.0 in /usr/local/lib/python3.7/dist-packages (from scikit-learn) (1.4.1)\n",
      "Requirement already satisfied: joblib>=0.11 in /usr/local/lib/python3.7/dist-packages (from scikit-learn) (1.1.0)\n"
     ]
    }
   ],
   "source": [
    "!pip install numpy\n",
    "!pip install pandas\n",
    "!pip install matplotlib\n",
    "!pip install scikit-learn"
   ]
  },
  {
   "cell_type": "markdown",
   "id": "optional-scanning",
   "metadata": {
    "id": "optional-scanning"
   },
   "source": [
    "### Import pandas, numpy, matplotlib and sklearn"
   ]
  },
  {
   "cell_type": "code",
   "execution_count": 2,
   "id": "comprehensive-norway",
   "metadata": {
    "id": "comprehensive-norway"
   },
   "outputs": [],
   "source": [
    "import pandas as pd\n",
    "import numpy as np\n",
    "import matplotlib.pyplot as plt\n",
    "import sklearn"
   ]
  },
  {
   "cell_type": "markdown",
   "id": "attended-consideration",
   "metadata": {
    "id": "attended-consideration"
   },
   "source": [
    "### Importing dataset to your code\n",
    "1. read .csv file by pandas library\n",
    "2. use **describe()** and **head()** functions look over dataset\n",
    "3. plot **mean** and **variance** of data"
   ]
  },
  {
   "cell_type": "code",
   "execution_count": 5,
   "id": "related-designation",
   "metadata": {
    "id": "related-designation"
   },
   "outputs": [],
   "source": [
    "#Task 1\n",
    "df=pd.read_csv('bmi.csv')"
   ]
  },
  {
   "cell_type": "code",
   "execution_count": 6,
   "id": "Y5S5MAPDQjFT",
   "metadata": {
    "colab": {
     "base_uri": "https://localhost:8080/"
    },
    "id": "Y5S5MAPDQjFT",
    "outputId": "3a5f8733-df52-4cbb-be88-b0a729c6bb03"
   },
   "outputs": [
    {
     "data": {
      "text/plain": [
       "(442, 2)"
      ]
     },
     "execution_count": 6,
     "metadata": {},
     "output_type": "execute_result"
    }
   ],
   "source": [
    "df.shape"
   ]
  },
  {
   "cell_type": "code",
   "execution_count": 7,
   "id": "jtPxL1LjP_sW",
   "metadata": {
    "colab": {
     "base_uri": "https://localhost:8080/",
     "height": 206
    },
    "id": "jtPxL1LjP_sW",
    "outputId": "14b55e9f-9380-406f-bc71-fdc85f8a0656"
   },
   "outputs": [
    {
     "data": {
      "text/html": [
       "\n",
       "  <div id=\"df-babc82ca-4ace-4c29-8737-2956d9c72c0d\">\n",
       "    <div class=\"colab-df-container\">\n",
       "      <div>\n",
       "<style scoped>\n",
       "    .dataframe tbody tr th:only-of-type {\n",
       "        vertical-align: middle;\n",
       "    }\n",
       "\n",
       "    .dataframe tbody tr th {\n",
       "        vertical-align: top;\n",
       "    }\n",
       "\n",
       "    .dataframe thead th {\n",
       "        text-align: right;\n",
       "    }\n",
       "</style>\n",
       "<table border=\"1\" class=\"dataframe\">\n",
       "  <thead>\n",
       "    <tr style=\"text-align: right;\">\n",
       "      <th></th>\n",
       "      <th>Unnamed: 0</th>\n",
       "      <th>0</th>\n",
       "    </tr>\n",
       "  </thead>\n",
       "  <tbody>\n",
       "    <tr>\n",
       "      <th>0</th>\n",
       "      <td>0</td>\n",
       "      <td>0.061696</td>\n",
       "    </tr>\n",
       "    <tr>\n",
       "      <th>1</th>\n",
       "      <td>1</td>\n",
       "      <td>-0.051474</td>\n",
       "    </tr>\n",
       "    <tr>\n",
       "      <th>2</th>\n",
       "      <td>2</td>\n",
       "      <td>0.044451</td>\n",
       "    </tr>\n",
       "    <tr>\n",
       "      <th>3</th>\n",
       "      <td>3</td>\n",
       "      <td>-0.011595</td>\n",
       "    </tr>\n",
       "    <tr>\n",
       "      <th>4</th>\n",
       "      <td>4</td>\n",
       "      <td>-0.036385</td>\n",
       "    </tr>\n",
       "  </tbody>\n",
       "</table>\n",
       "</div>\n",
       "      <button class=\"colab-df-convert\" onclick=\"convertToInteractive('df-babc82ca-4ace-4c29-8737-2956d9c72c0d')\"\n",
       "              title=\"Convert this dataframe to an interactive table.\"\n",
       "              style=\"display:none;\">\n",
       "        \n",
       "  <svg xmlns=\"http://www.w3.org/2000/svg\" height=\"24px\"viewBox=\"0 0 24 24\"\n",
       "       width=\"24px\">\n",
       "    <path d=\"M0 0h24v24H0V0z\" fill=\"none\"/>\n",
       "    <path d=\"M18.56 5.44l.94 2.06.94-2.06 2.06-.94-2.06-.94-.94-2.06-.94 2.06-2.06.94zm-11 1L8.5 8.5l.94-2.06 2.06-.94-2.06-.94L8.5 2.5l-.94 2.06-2.06.94zm10 10l.94 2.06.94-2.06 2.06-.94-2.06-.94-.94-2.06-.94 2.06-2.06.94z\"/><path d=\"M17.41 7.96l-1.37-1.37c-.4-.4-.92-.59-1.43-.59-.52 0-1.04.2-1.43.59L10.3 9.45l-7.72 7.72c-.78.78-.78 2.05 0 2.83L4 21.41c.39.39.9.59 1.41.59.51 0 1.02-.2 1.41-.59l7.78-7.78 2.81-2.81c.8-.78.8-2.07 0-2.86zM5.41 20L4 18.59l7.72-7.72 1.47 1.35L5.41 20z\"/>\n",
       "  </svg>\n",
       "      </button>\n",
       "      \n",
       "  <style>\n",
       "    .colab-df-container {\n",
       "      display:flex;\n",
       "      flex-wrap:wrap;\n",
       "      gap: 12px;\n",
       "    }\n",
       "\n",
       "    .colab-df-convert {\n",
       "      background-color: #E8F0FE;\n",
       "      border: none;\n",
       "      border-radius: 50%;\n",
       "      cursor: pointer;\n",
       "      display: none;\n",
       "      fill: #1967D2;\n",
       "      height: 32px;\n",
       "      padding: 0 0 0 0;\n",
       "      width: 32px;\n",
       "    }\n",
       "\n",
       "    .colab-df-convert:hover {\n",
       "      background-color: #E2EBFA;\n",
       "      box-shadow: 0px 1px 2px rgba(60, 64, 67, 0.3), 0px 1px 3px 1px rgba(60, 64, 67, 0.15);\n",
       "      fill: #174EA6;\n",
       "    }\n",
       "\n",
       "    [theme=dark] .colab-df-convert {\n",
       "      background-color: #3B4455;\n",
       "      fill: #D2E3FC;\n",
       "    }\n",
       "\n",
       "    [theme=dark] .colab-df-convert:hover {\n",
       "      background-color: #434B5C;\n",
       "      box-shadow: 0px 1px 3px 1px rgba(0, 0, 0, 0.15);\n",
       "      filter: drop-shadow(0px 1px 2px rgba(0, 0, 0, 0.3));\n",
       "      fill: #FFFFFF;\n",
       "    }\n",
       "  </style>\n",
       "\n",
       "      <script>\n",
       "        const buttonEl =\n",
       "          document.querySelector('#df-babc82ca-4ace-4c29-8737-2956d9c72c0d button.colab-df-convert');\n",
       "        buttonEl.style.display =\n",
       "          google.colab.kernel.accessAllowed ? 'block' : 'none';\n",
       "\n",
       "        async function convertToInteractive(key) {\n",
       "          const element = document.querySelector('#df-babc82ca-4ace-4c29-8737-2956d9c72c0d');\n",
       "          const dataTable =\n",
       "            await google.colab.kernel.invokeFunction('convertToInteractive',\n",
       "                                                     [key], {});\n",
       "          if (!dataTable) return;\n",
       "\n",
       "          const docLinkHtml = 'Like what you see? Visit the ' +\n",
       "            '<a target=\"_blank\" href=https://colab.research.google.com/notebooks/data_table.ipynb>data table notebook</a>'\n",
       "            + ' to learn more about interactive tables.';\n",
       "          element.innerHTML = '';\n",
       "          dataTable['output_type'] = 'display_data';\n",
       "          await google.colab.output.renderOutput(dataTable, element);\n",
       "          const docLink = document.createElement('div');\n",
       "          docLink.innerHTML = docLinkHtml;\n",
       "          element.appendChild(docLink);\n",
       "        }\n",
       "      </script>\n",
       "    </div>\n",
       "  </div>\n",
       "  "
      ],
      "text/plain": [
       "   Unnamed: 0         0\n",
       "0           0  0.061696\n",
       "1           1 -0.051474\n",
       "2           2  0.044451\n",
       "3           3 -0.011595\n",
       "4           4 -0.036385"
      ]
     },
     "execution_count": 7,
     "metadata": {},
     "output_type": "execute_result"
    }
   ],
   "source": [
    "df.head()"
   ]
  },
  {
   "cell_type": "code",
   "execution_count": 8,
   "id": "N7QkSra4QNIA",
   "metadata": {
    "colab": {
     "base_uri": "https://localhost:8080/",
     "height": 300
    },
    "id": "N7QkSra4QNIA",
    "outputId": "a371db5d-d6d6-4c7b-ea82-06b98a6c5411"
   },
   "outputs": [
    {
     "data": {
      "text/html": [
       "\n",
       "  <div id=\"df-c6708f47-3d13-40b4-9c2c-b501b3f650ef\">\n",
       "    <div class=\"colab-df-container\">\n",
       "      <div>\n",
       "<style scoped>\n",
       "    .dataframe tbody tr th:only-of-type {\n",
       "        vertical-align: middle;\n",
       "    }\n",
       "\n",
       "    .dataframe tbody tr th {\n",
       "        vertical-align: top;\n",
       "    }\n",
       "\n",
       "    .dataframe thead th {\n",
       "        text-align: right;\n",
       "    }\n",
       "</style>\n",
       "<table border=\"1\" class=\"dataframe\">\n",
       "  <thead>\n",
       "    <tr style=\"text-align: right;\">\n",
       "      <th></th>\n",
       "      <th>Unnamed: 0</th>\n",
       "      <th>0</th>\n",
       "    </tr>\n",
       "  </thead>\n",
       "  <tbody>\n",
       "    <tr>\n",
       "      <th>count</th>\n",
       "      <td>442.000000</td>\n",
       "      <td>4.420000e+02</td>\n",
       "    </tr>\n",
       "    <tr>\n",
       "      <th>mean</th>\n",
       "      <td>220.500000</td>\n",
       "      <td>-8.015207e-16</td>\n",
       "    </tr>\n",
       "    <tr>\n",
       "      <th>std</th>\n",
       "      <td>127.738666</td>\n",
       "      <td>4.761905e-02</td>\n",
       "    </tr>\n",
       "    <tr>\n",
       "      <th>min</th>\n",
       "      <td>0.000000</td>\n",
       "      <td>-9.027530e-02</td>\n",
       "    </tr>\n",
       "    <tr>\n",
       "      <th>25%</th>\n",
       "      <td>110.250000</td>\n",
       "      <td>-3.422907e-02</td>\n",
       "    </tr>\n",
       "    <tr>\n",
       "      <th>50%</th>\n",
       "      <td>220.500000</td>\n",
       "      <td>-7.283766e-03</td>\n",
       "    </tr>\n",
       "    <tr>\n",
       "      <th>75%</th>\n",
       "      <td>330.750000</td>\n",
       "      <td>3.124802e-02</td>\n",
       "    </tr>\n",
       "    <tr>\n",
       "      <th>max</th>\n",
       "      <td>441.000000</td>\n",
       "      <td>1.705552e-01</td>\n",
       "    </tr>\n",
       "  </tbody>\n",
       "</table>\n",
       "</div>\n",
       "      <button class=\"colab-df-convert\" onclick=\"convertToInteractive('df-c6708f47-3d13-40b4-9c2c-b501b3f650ef')\"\n",
       "              title=\"Convert this dataframe to an interactive table.\"\n",
       "              style=\"display:none;\">\n",
       "        \n",
       "  <svg xmlns=\"http://www.w3.org/2000/svg\" height=\"24px\"viewBox=\"0 0 24 24\"\n",
       "       width=\"24px\">\n",
       "    <path d=\"M0 0h24v24H0V0z\" fill=\"none\"/>\n",
       "    <path d=\"M18.56 5.44l.94 2.06.94-2.06 2.06-.94-2.06-.94-.94-2.06-.94 2.06-2.06.94zm-11 1L8.5 8.5l.94-2.06 2.06-.94-2.06-.94L8.5 2.5l-.94 2.06-2.06.94zm10 10l.94 2.06.94-2.06 2.06-.94-2.06-.94-.94-2.06-.94 2.06-2.06.94z\"/><path d=\"M17.41 7.96l-1.37-1.37c-.4-.4-.92-.59-1.43-.59-.52 0-1.04.2-1.43.59L10.3 9.45l-7.72 7.72c-.78.78-.78 2.05 0 2.83L4 21.41c.39.39.9.59 1.41.59.51 0 1.02-.2 1.41-.59l7.78-7.78 2.81-2.81c.8-.78.8-2.07 0-2.86zM5.41 20L4 18.59l7.72-7.72 1.47 1.35L5.41 20z\"/>\n",
       "  </svg>\n",
       "      </button>\n",
       "      \n",
       "  <style>\n",
       "    .colab-df-container {\n",
       "      display:flex;\n",
       "      flex-wrap:wrap;\n",
       "      gap: 12px;\n",
       "    }\n",
       "\n",
       "    .colab-df-convert {\n",
       "      background-color: #E8F0FE;\n",
       "      border: none;\n",
       "      border-radius: 50%;\n",
       "      cursor: pointer;\n",
       "      display: none;\n",
       "      fill: #1967D2;\n",
       "      height: 32px;\n",
       "      padding: 0 0 0 0;\n",
       "      width: 32px;\n",
       "    }\n",
       "\n",
       "    .colab-df-convert:hover {\n",
       "      background-color: #E2EBFA;\n",
       "      box-shadow: 0px 1px 2px rgba(60, 64, 67, 0.3), 0px 1px 3px 1px rgba(60, 64, 67, 0.15);\n",
       "      fill: #174EA6;\n",
       "    }\n",
       "\n",
       "    [theme=dark] .colab-df-convert {\n",
       "      background-color: #3B4455;\n",
       "      fill: #D2E3FC;\n",
       "    }\n",
       "\n",
       "    [theme=dark] .colab-df-convert:hover {\n",
       "      background-color: #434B5C;\n",
       "      box-shadow: 0px 1px 3px 1px rgba(0, 0, 0, 0.15);\n",
       "      filter: drop-shadow(0px 1px 2px rgba(0, 0, 0, 0.3));\n",
       "      fill: #FFFFFF;\n",
       "    }\n",
       "  </style>\n",
       "\n",
       "      <script>\n",
       "        const buttonEl =\n",
       "          document.querySelector('#df-c6708f47-3d13-40b4-9c2c-b501b3f650ef button.colab-df-convert');\n",
       "        buttonEl.style.display =\n",
       "          google.colab.kernel.accessAllowed ? 'block' : 'none';\n",
       "\n",
       "        async function convertToInteractive(key) {\n",
       "          const element = document.querySelector('#df-c6708f47-3d13-40b4-9c2c-b501b3f650ef');\n",
       "          const dataTable =\n",
       "            await google.colab.kernel.invokeFunction('convertToInteractive',\n",
       "                                                     [key], {});\n",
       "          if (!dataTable) return;\n",
       "\n",
       "          const docLinkHtml = 'Like what you see? Visit the ' +\n",
       "            '<a target=\"_blank\" href=https://colab.research.google.com/notebooks/data_table.ipynb>data table notebook</a>'\n",
       "            + ' to learn more about interactive tables.';\n",
       "          element.innerHTML = '';\n",
       "          dataTable['output_type'] = 'display_data';\n",
       "          await google.colab.output.renderOutput(dataTable, element);\n",
       "          const docLink = document.createElement('div');\n",
       "          docLink.innerHTML = docLinkHtml;\n",
       "          element.appendChild(docLink);\n",
       "        }\n",
       "      </script>\n",
       "    </div>\n",
       "  </div>\n",
       "  "
      ],
      "text/plain": [
       "       Unnamed: 0             0\n",
       "count  442.000000  4.420000e+02\n",
       "mean   220.500000 -8.015207e-16\n",
       "std    127.738666  4.761905e-02\n",
       "min      0.000000 -9.027530e-02\n",
       "25%    110.250000 -3.422907e-02\n",
       "50%    220.500000 -7.283766e-03\n",
       "75%    330.750000  3.124802e-02\n",
       "max    441.000000  1.705552e-01"
      ]
     },
     "execution_count": 8,
     "metadata": {},
     "output_type": "execute_result"
    }
   ],
   "source": [
    "df.describe()"
   ]
  },
  {
   "cell_type": "code",
   "execution_count": 9,
   "id": "oX9SoJOfQzSs",
   "metadata": {
    "id": "oX9SoJOfQzSs"
   },
   "outputs": [],
   "source": [
    "df.columns=['index','bmi']"
   ]
  },
  {
   "cell_type": "markdown",
   "id": "similar-ethnic",
   "metadata": {
    "id": "similar-ethnic"
   },
   "source": [
    "### Split data\n",
    "1. using sklearn.model_selection to split your dataset (80% for training)\n",
    "  * you can use numpy for spliting too"
   ]
  },
  {
   "cell_type": "code",
   "execution_count": 13,
   "id": "duplicate-father",
   "metadata": {
    "id": "duplicate-father"
   },
   "outputs": [],
   "source": [
    "#Task2\n",
    "from sklearn.model_selection import train_test_split\n",
    "X_train, X_test, y_train, y_test = train_test_split(df['index'],df['bmi'] , test_size=0.2, random_state=37)"
   ]
  },
  {
   "cell_type": "code",
   "execution_count": 14,
   "id": "abxSvZkoS1GI",
   "metadata": {
    "colab": {
     "base_uri": "https://localhost:8080/"
    },
    "id": "abxSvZkoS1GI",
    "outputId": "07e00ee4-3d6b-4f36-a8d6-9b20fa30b21a"
   },
   "outputs": [
    {
     "data": {
      "text/plain": [
       "((353,), (89,), (353,), (89,))"
      ]
     },
     "execution_count": 14,
     "metadata": {},
     "output_type": "execute_result"
    }
   ],
   "source": [
    "X_train.shape, X_test.shape, y_train.shape, y_test.shape"
   ]
  },
  {
   "cell_type": "markdown",
   "id": "comprehensive-cemetery",
   "metadata": {
    "id": "comprehensive-cemetery"
   },
   "source": [
    "### Linear Regression class\n",
    "1. complete **fit** method\n",
    "2. complete **predict** method\n",
    "3. complete **mean squared error (MSE)** method"
   ]
  },
  {
   "cell_type": "code",
   "execution_count": 15,
   "id": "numerous-captain",
   "metadata": {
    "id": "numerous-captain"
   },
   "outputs": [],
   "source": [
    "#Task3\n",
    "class Linear_Regression:\n",
    "    def __init__(self,learning_rate=0.0001,n_iters=10000):\n",
    "        self.x = None\n",
    "        self.y = None\n",
    "        self.lr=learning_rate\n",
    "        self.n_iters=n_iters\n",
    "        \n",
    "\n",
    "        self.coefficients = [0,0]\n",
    "        \n",
    "    def fit(self,x,y):\n",
    "        self.x = x\n",
    "        self.y = y\n",
    "        \n",
    "        n_samples = x.shape[0]\n",
    "\n",
    "        \n",
    "        alpha1=np.sum(np.multiply(self.x - np.mean(x),self.y - np.mean(y))) \\\n",
    "        /sum((self.x - np.mean(x))**2)\n",
    "\n",
    "        alpha0=np.mean(y)- alpha1 * np.mean(x)\n",
    "        self.coefficients=[alpha0,alpha1]\n",
    "\n",
    "        \n",
    "        return self\n",
    "    \n",
    "    def predict(self,x):\n",
    "    \n",
    "        print(x* self.coefficients[1])\n",
    "        y_approximated = x* self.coefficients[1] + self.coefficients[0]\n",
    "        return y_approximated\n",
    "    \n",
    "    def mse(self,x,y):\n",
    "        return np.sum((self.predict(x)-y)**2) / x.shape[0]"
   ]
  },
  {
   "cell_type": "markdown",
   "id": "comparable-chair",
   "metadata": {
    "id": "comparable-chair"
   },
   "source": [
    "### Use dataset to create sample Linear regression\n",
    "1. create new instance of Linear_Regression class\n",
    "2. import x_train and y_train parts to fit method\n",
    "3. predict new y by using x_test and predict method\n",
    "4. now find how much is your MSE"
   ]
  },
  {
   "cell_type": "code",
   "execution_count": 22,
   "id": "advisory-boston",
   "metadata": {
    "colab": {
     "base_uri": "https://localhost:8080/"
    },
    "id": "advisory-boston",
    "outputId": "4b5b26d9-b9ca-487e-dc14-0872daa06365"
   },
   "outputs": [
    {
     "name": "stdout",
     "output_type": "stream",
     "text": [
      "411    0.011371\n",
      "197    0.005450\n",
      "268    0.007414\n",
      "337    0.009323\n",
      "406    0.011232\n",
      "         ...   \n",
      "313    0.008659\n",
      "227    0.006280\n",
      "233    0.006446\n",
      "200    0.005533\n",
      "27     0.000747\n",
      "Name: index, Length: 89, dtype: float64\n",
      "411    0.011371\n",
      "197    0.005450\n",
      "268    0.007414\n",
      "337    0.009323\n",
      "406    0.011232\n",
      "         ...   \n",
      "313    0.008659\n",
      "227    0.006280\n",
      "233    0.006446\n",
      "200    0.005533\n",
      "27     0.000747\n",
      "Name: index, Length: 89, dtype: float64\n"
     ]
    }
   ],
   "source": [
    "#Task4\n",
    "lr=Linear_Regression()\n",
    "lr.fit(X_train,y_train)\n",
    "\n",
    "y_test_pred=lr.predict(X_test)\n",
    "mse=lr.mse(X_test,y_test)"
   ]
  },
  {
   "cell_type": "code",
   "execution_count": 23,
   "id": "vfH7gBnuIKiN",
   "metadata": {
    "colab": {
     "base_uri": "https://localhost:8080/"
    },
    "id": "vfH7gBnuIKiN",
    "outputId": "e9d5837c-d6cf-4d38-b99d-586bc40e73e1"
   },
   "outputs": [
    {
     "data": {
      "text/plain": [
       "0.002789982533053818"
      ]
     },
     "execution_count": 23,
     "metadata": {},
     "output_type": "execute_result"
    }
   ],
   "source": [
    "mse"
   ]
  },
  {
   "cell_type": "markdown",
   "id": "invalid-summary",
   "metadata": {
    "id": "invalid-summary"
   },
   "source": [
    "### Plot data and the line\n",
    "1. use scatter plot to plot dataset\n",
    "2. plot regression line with another color"
   ]
  },
  {
   "cell_type": "code",
   "execution_count": 25,
   "id": "fourth-growth",
   "metadata": {
    "colab": {
     "base_uri": "https://localhost:8080/",
     "height": 508
    },
    "id": "fourth-growth",
    "outputId": "8b909d71-207d-4f57-a69f-bff7067e652d"
   },
   "outputs": [
    {
     "name": "stdout",
     "output_type": "stream",
     "text": [
      "[0.         0.0001751  0.0003502  0.0005253  0.00070041 0.00087551\n",
      " 0.00105061 0.00122571 0.00140081 0.00157591 0.00175101 0.00192612\n",
      " 0.00210122 0.00227632 0.00245142 0.00262652 0.00280162 0.00297672\n",
      " 0.00315183 0.00332693 0.00350203 0.00367713 0.00385223 0.00402733\n",
      " 0.00420243 0.00437754 0.00455264 0.00472774 0.00490284 0.00507794\n",
      " 0.00525304 0.00542814 0.00560325 0.00577835 0.00595345 0.00612855\n",
      " 0.00630365 0.00647875 0.00665385 0.00682896 0.00700406 0.00717916\n",
      " 0.00735426 0.00752936 0.00770446 0.00787956 0.00805467 0.00822977\n",
      " 0.00840487 0.00857997 0.00875507 0.00893017 0.00910527 0.00928038\n",
      " 0.00945548 0.00963058 0.00980568 0.00998078 0.01015588 0.01033098\n",
      " 0.01050609 0.01068119 0.01085629 0.01103139 0.01120649 0.01138159\n",
      " 0.01155669 0.0117318  0.0119069  0.012082   0.0122571  0.0124322\n",
      " 0.0126073  0.01278241 0.01295751 0.01313261 0.01330771 0.01348281\n",
      " 0.01365791 0.01383301]\n"
     ]
    },
    {
     "data": {
      "image/png": "[encoded data removed]",
      "text/plain": [
       "<Figure size 432x288 with 1 Axes>"
      ]
     },
     "metadata": {
      "needs_background": "light"
     },
     "output_type": "display_data"
    }
   ],
   "source": [
    "#Task5\n",
    "plt.scatter(df['index'],df['bmi'])\n",
    "x = np.linspace(0,500,80)\n",
    "y = lr.predict(x)\n",
    "plt.plot(x,y,color='green')\n",
    "plt.show()\n"
   ]
  }
 ],
 "metadata": {
  "colab": {
   "name": "Ai_HW4.ipynb",
   "provenance": []
  },
  "kernelspec": {
   "display_name": "Python 3 (ipykernel)",
   "language": "python",
   "name": "python3"
  },
  "language_info": {
   "codemirror_mode": {
    "name": "ipython",
    "version": 3
   },
   "file_extension": ".py",
   "mimetype": "text/x-python",
   "name": "python",
   "nbconvert_exporter": "python",
   "pygments_lexer": "ipython3",
   "version": "3.9.6"
  }
 },
 "nbformat": 4,
 "nbformat_minor": 5
}
