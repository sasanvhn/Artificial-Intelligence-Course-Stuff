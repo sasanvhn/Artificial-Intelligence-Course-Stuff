{
 "cells": [
  {
   "cell_type": "code",
   "execution_count": null,
   "id": "turned-fluid",
   "metadata": {},
   "outputs": [],
   "source": [
    "# !pip install numpy\n",
    "# !pip install pandas\n",
    "# !pip install matplotlib\n",
    "# !pip install scikit-learn"
   ]
  },
  {
   "cell_type": "markdown",
   "id": "optional-scanning",
   "metadata": {},
   "source": [
    "### Import pandas, numpy, matplotlib and sklearn"
   ]
  },
  {
   "cell_type": "code",
   "execution_count": 2,
   "id": "comprehensive-norway",
   "metadata": {},
   "outputs": [],
   "source": [
    "import pandas as pd\n",
    "import numpy as np\n",
    "import matplotlib.pyplot as plt\n",
    "import sklearn"
   ]
  },
  {
   "cell_type": "markdown",
   "id": "attended-consideration",
   "metadata": {},
   "source": [
    "### Importing dataset to your code\n",
    "1. read .csv file by pandas library\n",
    "2. use **describe()** and **head()** functions look over dataset\n",
    "3. plot **mean** and **variance** of data"
   ]
  },
  {
   "cell_type": "code",
   "execution_count": 9,
   "id": "related-designation",
   "metadata": {},
   "outputs": [],
   "source": [
    "#Task1"
   ]
  },
  {
   "cell_type": "markdown",
   "id": "similar-ethnic",
   "metadata": {},
   "source": [
    "### Split data\n",
    "1. using sklearn.model_selection to split your dataset (80% for training)\n",
    "  * you can use numpy for spliting too"
   ]
  },
  {
   "cell_type": "code",
   "execution_count": 10,
   "id": "duplicate-father",
   "metadata": {},
   "outputs": [],
   "source": [
    "#Task2"
   ]
  },
  {
   "cell_type": "markdown",
   "id": "comprehensive-cemetery",
   "metadata": {},
   "source": [
    "### Linear Regression class\n",
    "1. complete **fit** method\n",
    "2. complete **predict** method\n",
    "3. complete **mean squared error (MSE)** method"
   ]
  },
  {
   "cell_type": "code",
   "execution_count": 11,
   "id": "numerous-captain",
   "metadata": {},
   "outputs": [],
   "source": [
    "#Task3\n",
    "class Linear_Regression:\n",
    "    def __init__(self):\n",
    "        self.x = None\n",
    "        self.y = None\n",
    "        self.alpha0 = None\n",
    "        self.alpha1 = None\n",
    "        self.coeffients = []\n",
    "        \n",
    "    def fit(self,x,y):\n",
    "        self.x = x\n",
    "        self.y = y\n",
    "        \n",
    "        # self.alpha1 = ...\n",
    "        # self.alpha0 = ...\n",
    "        \n",
    "        self.coeffients = [self.alpha0, self.alpha1]\n",
    "        return self\n",
    "    \n",
    "    def predict(self,x):\n",
    "        pass\n",
    "    \n",
    "    def mse(self,x,y):\n",
    "        pass"
   ]
  },
  {
   "cell_type": "markdown",
   "id": "comparable-chair",
   "metadata": {},
   "source": [
    "### Use dataset to create sample Linear regression\n",
    "1. create new instance of Linear_Regression class\n",
    "2. import x_train and y_train parts to fit method\n",
    "3. predict new y by using x_test and predict method\n",
    "4. now find how much is your MSE"
   ]
  },
  {
   "cell_type": "code",
   "execution_count": 12,
   "id": "advisory-boston",
   "metadata": {},
   "outputs": [],
   "source": [
    "#Task4"
   ]
  },
  {
   "cell_type": "markdown",
   "id": "invalid-summary",
   "metadata": {},
   "source": [
    "### Plot data and the line\n",
    "1. use scatter plot to plot dataset\n",
    "2. plot regression line with another color"
   ]
  },
  {
   "cell_type": "code",
   "execution_count": null,
   "id": "fourth-growth",
   "metadata": {},
   "outputs": [],
   "source": [
    "#Task5"
   ]
  }
 ],
 "metadata": {
  "kernelspec": {
   "display_name": "Python 3",
   "language": "python",
   "name": "python3"
  },
  "language_info": {
   "codemirror_mode": {
    "name": "ipython",
    "version": 3
   },
   "file_extension": ".py",
   "mimetype": "text/x-python",
   "name": "python",
   "nbconvert_exporter": "python",
   "pygments_lexer": "ipython3",
   "version": "3.8.2"
  }
 },
 "nbformat": 4,
 "nbformat_minor": 5
}
